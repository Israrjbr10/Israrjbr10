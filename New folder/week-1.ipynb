{
 "cells": [
  {
   "cell_type": "code",
   "execution_count": 10,
   "id": "baae9066-a30d-4aad-b294-84f09ba1f969",
   "metadata": {},
   "outputs": [
    {
     "name": "stdout",
     "output_type": "stream",
     "text": [
      "Take an umbrella\n"
     ]
    }
   ],
   "source": [
    "#conditional satement\n",
    "\n",
    "weather='rainy'\n",
    "if weather=='rainy':\n",
    "   print('Take an umbrella')"
   ]
  },
  {
   "cell_type": "code",
   "execution_count": 4,
   "id": "a93fa4c4-dd21-4c6d-8573-f38412a773f4",
   "metadata": {},
   "outputs": [
    {
     "name": "stdout",
     "output_type": "stream",
     "text": [
      "wear sunglasses.\n"
     ]
    }
   ],
   "source": [
    "weather ='sunny'\n",
    "\n",
    "if weather =='rainy':\n",
    "   print('take an umbrella')\n",
    "else:\n",
    "    print('wear sunglasses.')"
   ]
  },
  {
   "cell_type": "code",
   "execution_count": 9,
   "id": "34def7bf-3023-417c-b5f5-d4d01c49ed4e",
   "metadata": {},
   "outputs": [
    {
     "name": "stdout",
     "output_type": "stream",
     "text": [
      "wear a hat.\n"
     ]
    }
   ],
   "source": [
    "weather ='cloudy'\n",
    "\n",
    "if weather =='rainy':\n",
    "   print('take an umbrella')\n",
    "elif weather =='sunny':\n",
    "    print('wear sunglasses.')\n",
    "else:\n",
    "    print('wear a hat.')"
   ]
  },
  {
   "cell_type": "code",
   "execution_count": 17,
   "id": "7c5b1671-c68b-4054-8abf-ac8ef84ff228",
   "metadata": {},
   "outputs": [
    {
     "name": "stdout",
     "output_type": "stream",
     "text": [
      "0\n",
      "1\n",
      "2\n",
      "3\n",
      "4\n"
     ]
    }
   ],
   "source": [
    "#loops\n",
    "\n",
    "count=0\n",
    "while True:\n",
    "    print(count)\n",
    "    count+=1\n",
    "\n",
    "    if count >=5:\n",
    "        break"
   ]
  },
  {
   "cell_type": "code",
   "execution_count": null,
   "id": "3c015f68-7102-4096-ad2b-e426649ccc32",
   "metadata": {},
   "outputs": [],
   "source": [
    "\n"
   ]
  },
  {
   "cell_type": "code",
   "execution_count": 13,
   "id": "24356388-3f1d-4aa1-95ca-b84eb5405d94",
   "metadata": {},
   "outputs": [
    {
     "name": "stdout",
     "output_type": "stream",
     "text": [
      "Elements in union set: \n",
      "1\n",
      "2\n",
      "3\n",
      "4\n",
      "5\n",
      "6\n",
      "7\n",
      "3 is present in sets\n"
     ]
    }
   ],
   "source": [
    "#sets\n",
    "set1= {1,2,3,4,5}\n",
    "set2={3,4,5,6,7}\n",
    "\n",
    "set1.add(6)\n",
    "set1.add(7)\n",
    "\n",
    "set2.remove(6)\n",
    "unionset= set1.union(set2)\n",
    "intersectionset=set1.intersection(set2)\n",
    "differenceset=set1.difference(set2)\n",
    "print(\"Elements in union set: \")\n",
    "for element in unionset:\n",
    "    print(element)\n",
    "\n",
    "if 3 in set1:\n",
    "    print(\"3 is present in sets\")\n",
    "\n",
    "list1 = [2,4,6,8,10]\n",
    "set3= set(list1)\n",
    "\n",
    "if set3.issubset(set1):\n",
    "    print (\"set3 is a subset of set1\")\n",
    "\n",
    "if set1.issuperset(set3):\n",
    "    print (\"set1 is a subset of set3\")\n"
   ]
  },
  {
   "cell_type": "code",
   "execution_count": null,
   "id": "c53fc127-2d92-4813-bb01-5d724a5b276e",
   "metadata": {},
   "outputs": [],
   "source": []
  }
 ],
 "metadata": {
  "kernelspec": {
   "display_name": "Python 3 (ipykernel)",
   "language": "python",
   "name": "python3"
  },
  "language_info": {
   "codemirror_mode": {
    "name": "ipython",
    "version": 3
   },
   "file_extension": ".py",
   "mimetype": "text/x-python",
   "name": "python",
   "nbconvert_exporter": "python",
   "pygments_lexer": "ipython3",
   "version": "3.8.0"
  },
  "widgets": {
   "application/vnd.jupyter.widget-state+json": {
    "state": {},
    "version_major": 2,
    "version_minor": 0
   }
  }
 },
 "nbformat": 4,
 "nbformat_minor": 5
}
