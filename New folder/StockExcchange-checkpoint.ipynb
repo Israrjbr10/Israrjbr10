{
 "cells": [
  {
   "cell_type": "code",
   "execution_count": 28,
   "id": "4a87bab1-c73d-48be-a703-73f511145b0c",
   "metadata": {},
   "outputs": [],
   "source": [
    "import pandas as pd\n",
    "import numpy as np\n",
    "import matplotlib.pyplot as plt\n"
   ]
  },
  {
   "cell_type": "code",
   "execution_count": 29,
   "id": "d7c94824-68e1-4bf4-8780-7f4b1eb0b0e3",
   "metadata": {},
   "outputs": [],
   "source": [
    "file_path=r\"C:\\Users\\Ahmed\\Downloads\\DATASETS\\StockExchange\\indexData.csv\""
   ]
  },
  {
   "cell_type": "code",
   "execution_count": 30,
   "id": "a5f26b82-a51f-4b14-a572-0950c6105222",
   "metadata": {},
   "outputs": [
    {
     "data": {
      "text/html": [
       "<div>\n",
       "<style scoped>\n",
       "    .dataframe tbody tr th:only-of-type {\n",
       "        vertical-align: middle;\n",
       "    }\n",
       "\n",
       "    .dataframe tbody tr th {\n",
       "        vertical-align: top;\n",
       "    }\n",
       "\n",
       "    .dataframe thead th {\n",
       "        text-align: right;\n",
       "    }\n",
       "</style>\n",
       "<table border=\"1\" class=\"dataframe\">\n",
       "  <thead>\n",
       "    <tr style=\"text-align: right;\">\n",
       "      <th></th>\n",
       "      <th>Index</th>\n",
       "      <th>Date</th>\n",
       "      <th>Open</th>\n",
       "      <th>High</th>\n",
       "      <th>Low</th>\n",
       "      <th>Close</th>\n",
       "      <th>Adj Close</th>\n",
       "      <th>Volume</th>\n",
       "    </tr>\n",
       "  </thead>\n",
       "  <tbody>\n",
       "    <tr>\n",
       "      <th>92450</th>\n",
       "      <td>N225</td>\n",
       "      <td>1965-01-05</td>\n",
       "      <td>1257.719971</td>\n",
       "      <td>1257.719971</td>\n",
       "      <td>1257.719971</td>\n",
       "      <td>1257.719971</td>\n",
       "      <td>1257.719971</td>\n",
       "      <td>0.0</td>\n",
       "    </tr>\n",
       "    <tr>\n",
       "      <th>92451</th>\n",
       "      <td>N225</td>\n",
       "      <td>1965-01-06</td>\n",
       "      <td>1263.989990</td>\n",
       "      <td>1263.989990</td>\n",
       "      <td>1263.989990</td>\n",
       "      <td>1263.989990</td>\n",
       "      <td>1263.989990</td>\n",
       "      <td>0.0</td>\n",
       "    </tr>\n",
       "    <tr>\n",
       "      <th>92452</th>\n",
       "      <td>N225</td>\n",
       "      <td>1965-01-07</td>\n",
       "      <td>1274.270020</td>\n",
       "      <td>1274.270020</td>\n",
       "      <td>1274.270020</td>\n",
       "      <td>1274.270020</td>\n",
       "      <td>1274.270020</td>\n",
       "      <td>0.0</td>\n",
       "    </tr>\n",
       "    <tr>\n",
       "      <th>92453</th>\n",
       "      <td>N225</td>\n",
       "      <td>1965-01-08</td>\n",
       "      <td>1286.430054</td>\n",
       "      <td>1286.430054</td>\n",
       "      <td>1286.430054</td>\n",
       "      <td>1286.430054</td>\n",
       "      <td>1286.430054</td>\n",
       "      <td>0.0</td>\n",
       "    </tr>\n",
       "    <tr>\n",
       "      <th>92454</th>\n",
       "      <td>N225</td>\n",
       "      <td>1965-01-11</td>\n",
       "      <td>NaN</td>\n",
       "      <td>NaN</td>\n",
       "      <td>NaN</td>\n",
       "      <td>NaN</td>\n",
       "      <td>NaN</td>\n",
       "      <td>NaN</td>\n",
       "    </tr>\n",
       "    <tr>\n",
       "      <th>...</th>\n",
       "      <td>...</td>\n",
       "      <td>...</td>\n",
       "      <td>...</td>\n",
       "      <td>...</td>\n",
       "      <td>...</td>\n",
       "      <td>...</td>\n",
       "      <td>...</td>\n",
       "      <td>...</td>\n",
       "    </tr>\n",
       "    <tr>\n",
       "      <th>112455</th>\n",
       "      <td>N100</td>\n",
       "      <td>2021-06-01</td>\n",
       "      <td>1254.609985</td>\n",
       "      <td>1265.660034</td>\n",
       "      <td>1254.609985</td>\n",
       "      <td>1258.579956</td>\n",
       "      <td>1258.579956</td>\n",
       "      <td>155179900.0</td>\n",
       "    </tr>\n",
       "    <tr>\n",
       "      <th>112456</th>\n",
       "      <td>N100</td>\n",
       "      <td>2021-06-02</td>\n",
       "      <td>1258.489990</td>\n",
       "      <td>1263.709961</td>\n",
       "      <td>1258.239990</td>\n",
       "      <td>1263.619995</td>\n",
       "      <td>1263.619995</td>\n",
       "      <td>148465000.0</td>\n",
       "    </tr>\n",
       "    <tr>\n",
       "      <th>106948</th>\n",
       "      <td>N225</td>\n",
       "      <td>2021-06-02</td>\n",
       "      <td>28730.810550</td>\n",
       "      <td>29003.550780</td>\n",
       "      <td>28565.830080</td>\n",
       "      <td>28946.140630</td>\n",
       "      <td>28946.140630</td>\n",
       "      <td>71000000.0</td>\n",
       "    </tr>\n",
       "    <tr>\n",
       "      <th>58054</th>\n",
       "      <td>399001.SZ</td>\n",
       "      <td>2021-06-02</td>\n",
       "      <td>15044.940430</td>\n",
       "      <td>15051.209960</td>\n",
       "      <td>14793.740230</td>\n",
       "      <td>14857.910160</td>\n",
       "      <td>14857.910160</td>\n",
       "      <td>1470800.0</td>\n",
       "    </tr>\n",
       "    <tr>\n",
       "      <th>106949</th>\n",
       "      <td>N225</td>\n",
       "      <td>2021-06-03</td>\n",
       "      <td>28890.390630</td>\n",
       "      <td>29157.160160</td>\n",
       "      <td>28879.150390</td>\n",
       "      <td>29058.109380</td>\n",
       "      <td>29058.109380</td>\n",
       "      <td>0.0</td>\n",
       "    </tr>\n",
       "  </tbody>\n",
       "</table>\n",
       "<p>112457 rows × 8 columns</p>\n",
       "</div>"
      ],
      "text/plain": [
       "            Index        Date          Open          High           Low  \\\n",
       "92450        N225  1965-01-05   1257.719971   1257.719971   1257.719971   \n",
       "92451        N225  1965-01-06   1263.989990   1263.989990   1263.989990   \n",
       "92452        N225  1965-01-07   1274.270020   1274.270020   1274.270020   \n",
       "92453        N225  1965-01-08   1286.430054   1286.430054   1286.430054   \n",
       "92454        N225  1965-01-11           NaN           NaN           NaN   \n",
       "...           ...         ...           ...           ...           ...   \n",
       "112455       N100  2021-06-01   1254.609985   1265.660034   1254.609985   \n",
       "112456       N100  2021-06-02   1258.489990   1263.709961   1258.239990   \n",
       "106948       N225  2021-06-02  28730.810550  29003.550780  28565.830080   \n",
       "58054   399001.SZ  2021-06-02  15044.940430  15051.209960  14793.740230   \n",
       "106949       N225  2021-06-03  28890.390630  29157.160160  28879.150390   \n",
       "\n",
       "               Close     Adj Close       Volume  \n",
       "92450    1257.719971   1257.719971          0.0  \n",
       "92451    1263.989990   1263.989990          0.0  \n",
       "92452    1274.270020   1274.270020          0.0  \n",
       "92453    1286.430054   1286.430054          0.0  \n",
       "92454            NaN           NaN          NaN  \n",
       "...              ...           ...          ...  \n",
       "112455   1258.579956   1258.579956  155179900.0  \n",
       "112456   1263.619995   1263.619995  148465000.0  \n",
       "106948  28946.140630  28946.140630   71000000.0  \n",
       "58054   14857.910160  14857.910160    1470800.0  \n",
       "106949  29058.109380  29058.109380          0.0  \n",
       "\n",
       "[112457 rows x 8 columns]"
      ]
     },
     "execution_count": 30,
     "metadata": {},
     "output_type": "execute_result"
    }
   ],
   "source": [
    "df = pd.read_csv(file_path)\n",
    "df.sort_values(by=\"Date\")"
   ]
  },
  {
   "cell_type": "code",
   "execution_count": 31,
   "id": "f4374d2d-6c45-4c4c-a538-e79d09bb3955",
   "metadata": {},
   "outputs": [
    {
     "data": {
      "text/html": [
       "<div>\n",
       "<style scoped>\n",
       "    .dataframe tbody tr th:only-of-type {\n",
       "        vertical-align: middle;\n",
       "    }\n",
       "\n",
       "    .dataframe tbody tr th {\n",
       "        vertical-align: top;\n",
       "    }\n",
       "\n",
       "    .dataframe thead th {\n",
       "        text-align: right;\n",
       "    }\n",
       "</style>\n",
       "<table border=\"1\" class=\"dataframe\">\n",
       "  <thead>\n",
       "    <tr style=\"text-align: right;\">\n",
       "      <th></th>\n",
       "      <th>Index</th>\n",
       "      <th>Date</th>\n",
       "      <th>Open</th>\n",
       "      <th>High</th>\n",
       "      <th>Low</th>\n",
       "      <th>Close</th>\n",
       "      <th>Adj Close</th>\n",
       "      <th>Volume</th>\n",
       "    </tr>\n",
       "  </thead>\n",
       "  <tbody>\n",
       "    <tr>\n",
       "      <th>0</th>\n",
       "      <td>NYA</td>\n",
       "      <td>1965-12-31</td>\n",
       "      <td>528.690002</td>\n",
       "      <td>528.690002</td>\n",
       "      <td>528.690002</td>\n",
       "      <td>528.690002</td>\n",
       "      <td>528.690002</td>\n",
       "      <td>0.0</td>\n",
       "    </tr>\n",
       "    <tr>\n",
       "      <th>1</th>\n",
       "      <td>NYA</td>\n",
       "      <td>1966-01-03</td>\n",
       "      <td>527.210022</td>\n",
       "      <td>527.210022</td>\n",
       "      <td>527.210022</td>\n",
       "      <td>527.210022</td>\n",
       "      <td>527.210022</td>\n",
       "      <td>0.0</td>\n",
       "    </tr>\n",
       "    <tr>\n",
       "      <th>2</th>\n",
       "      <td>NYA</td>\n",
       "      <td>1966-01-04</td>\n",
       "      <td>527.840027</td>\n",
       "      <td>527.840027</td>\n",
       "      <td>527.840027</td>\n",
       "      <td>527.840027</td>\n",
       "      <td>527.840027</td>\n",
       "      <td>0.0</td>\n",
       "    </tr>\n",
       "    <tr>\n",
       "      <th>3</th>\n",
       "      <td>NYA</td>\n",
       "      <td>1966-01-05</td>\n",
       "      <td>531.119995</td>\n",
       "      <td>531.119995</td>\n",
       "      <td>531.119995</td>\n",
       "      <td>531.119995</td>\n",
       "      <td>531.119995</td>\n",
       "      <td>0.0</td>\n",
       "    </tr>\n",
       "    <tr>\n",
       "      <th>4</th>\n",
       "      <td>NYA</td>\n",
       "      <td>1966-01-06</td>\n",
       "      <td>532.070007</td>\n",
       "      <td>532.070007</td>\n",
       "      <td>532.070007</td>\n",
       "      <td>532.070007</td>\n",
       "      <td>532.070007</td>\n",
       "      <td>0.0</td>\n",
       "    </tr>\n",
       "    <tr>\n",
       "      <th>...</th>\n",
       "      <td>...</td>\n",
       "      <td>...</td>\n",
       "      <td>...</td>\n",
       "      <td>...</td>\n",
       "      <td>...</td>\n",
       "      <td>...</td>\n",
       "      <td>...</td>\n",
       "      <td>...</td>\n",
       "    </tr>\n",
       "    <tr>\n",
       "      <th>112452</th>\n",
       "      <td>N100</td>\n",
       "      <td>2021-05-27</td>\n",
       "      <td>1241.119995</td>\n",
       "      <td>1251.910034</td>\n",
       "      <td>1241.119995</td>\n",
       "      <td>1247.069946</td>\n",
       "      <td>1247.069946</td>\n",
       "      <td>379696400.0</td>\n",
       "    </tr>\n",
       "    <tr>\n",
       "      <th>112453</th>\n",
       "      <td>N100</td>\n",
       "      <td>2021-05-28</td>\n",
       "      <td>1249.469971</td>\n",
       "      <td>1259.209961</td>\n",
       "      <td>1249.030029</td>\n",
       "      <td>1256.599976</td>\n",
       "      <td>1256.599976</td>\n",
       "      <td>160773400.0</td>\n",
       "    </tr>\n",
       "    <tr>\n",
       "      <th>112454</th>\n",
       "      <td>N100</td>\n",
       "      <td>2021-05-31</td>\n",
       "      <td>1256.079956</td>\n",
       "      <td>1258.880005</td>\n",
       "      <td>1248.140015</td>\n",
       "      <td>1248.930054</td>\n",
       "      <td>1248.930054</td>\n",
       "      <td>91173700.0</td>\n",
       "    </tr>\n",
       "    <tr>\n",
       "      <th>112455</th>\n",
       "      <td>N100</td>\n",
       "      <td>2021-06-01</td>\n",
       "      <td>1254.609985</td>\n",
       "      <td>1265.660034</td>\n",
       "      <td>1254.609985</td>\n",
       "      <td>1258.579956</td>\n",
       "      <td>1258.579956</td>\n",
       "      <td>155179900.0</td>\n",
       "    </tr>\n",
       "    <tr>\n",
       "      <th>112456</th>\n",
       "      <td>N100</td>\n",
       "      <td>2021-06-02</td>\n",
       "      <td>1258.489990</td>\n",
       "      <td>1263.709961</td>\n",
       "      <td>1258.239990</td>\n",
       "      <td>1263.619995</td>\n",
       "      <td>1263.619995</td>\n",
       "      <td>148465000.0</td>\n",
       "    </tr>\n",
       "  </tbody>\n",
       "</table>\n",
       "<p>112457 rows × 8 columns</p>\n",
       "</div>"
      ],
      "text/plain": [
       "       Index        Date         Open         High          Low        Close  \\\n",
       "0        NYA  1965-12-31   528.690002   528.690002   528.690002   528.690002   \n",
       "1        NYA  1966-01-03   527.210022   527.210022   527.210022   527.210022   \n",
       "2        NYA  1966-01-04   527.840027   527.840027   527.840027   527.840027   \n",
       "3        NYA  1966-01-05   531.119995   531.119995   531.119995   531.119995   \n",
       "4        NYA  1966-01-06   532.070007   532.070007   532.070007   532.070007   \n",
       "...      ...         ...          ...          ...          ...          ...   \n",
       "112452  N100  2021-05-27  1241.119995  1251.910034  1241.119995  1247.069946   \n",
       "112453  N100  2021-05-28  1249.469971  1259.209961  1249.030029  1256.599976   \n",
       "112454  N100  2021-05-31  1256.079956  1258.880005  1248.140015  1248.930054   \n",
       "112455  N100  2021-06-01  1254.609985  1265.660034  1254.609985  1258.579956   \n",
       "112456  N100  2021-06-02  1258.489990  1263.709961  1258.239990  1263.619995   \n",
       "\n",
       "          Adj Close       Volume  \n",
       "0        528.690002          0.0  \n",
       "1        527.210022          0.0  \n",
       "2        527.840027          0.0  \n",
       "3        531.119995          0.0  \n",
       "4        532.070007          0.0  \n",
       "...             ...          ...  \n",
       "112452  1247.069946  379696400.0  \n",
       "112453  1256.599976  160773400.0  \n",
       "112454  1248.930054   91173700.0  \n",
       "112455  1258.579956  155179900.0  \n",
       "112456  1263.619995  148465000.0  \n",
       "\n",
       "[112457 rows x 8 columns]"
      ]
     },
     "execution_count": 31,
     "metadata": {},
     "output_type": "execute_result"
    }
   ],
   "source": [
    "df"
   ]
  },
  {
   "cell_type": "code",
   "execution_count": 32,
   "id": "8198fd3f-da56-4595-a5ea-90ee2c7f1585",
   "metadata": {},
   "outputs": [
    {
     "name": "stdout",
     "output_type": "stream",
     "text": [
      "<class 'pandas.core.frame.DataFrame'>\n",
      "RangeIndex: 112457 entries, 0 to 112456\n",
      "Data columns (total 8 columns):\n",
      " #   Column     Non-Null Count   Dtype  \n",
      "---  ------     --------------   -----  \n",
      " 0   Index      112457 non-null  object \n",
      " 1   Date       112457 non-null  object \n",
      " 2   Open       110253 non-null  float64\n",
      " 3   High       110253 non-null  float64\n",
      " 4   Low        110253 non-null  float64\n",
      " 5   Close      110253 non-null  float64\n",
      " 6   Adj Close  110253 non-null  float64\n",
      " 7   Volume     110253 non-null  float64\n",
      "dtypes: float64(6), object(2)\n",
      "memory usage: 6.9+ MB\n"
     ]
    }
   ],
   "source": [
    "df.info()"
   ]
  },
  {
   "cell_type": "code",
   "execution_count": 33,
   "id": "6686dd87-27b8-4d2c-ae1a-e0dd78667a3e",
   "metadata": {},
   "outputs": [
    {
     "data": {
      "text/html": [
       "<div>\n",
       "<style scoped>\n",
       "    .dataframe tbody tr th:only-of-type {\n",
       "        vertical-align: middle;\n",
       "    }\n",
       "\n",
       "    .dataframe tbody tr th {\n",
       "        vertical-align: top;\n",
       "    }\n",
       "\n",
       "    .dataframe thead th {\n",
       "        text-align: right;\n",
       "    }\n",
       "</style>\n",
       "<table border=\"1\" class=\"dataframe\">\n",
       "  <thead>\n",
       "    <tr style=\"text-align: right;\">\n",
       "      <th></th>\n",
       "      <th>Open</th>\n",
       "      <th>High</th>\n",
       "      <th>Low</th>\n",
       "      <th>Close</th>\n",
       "      <th>Adj Close</th>\n",
       "      <th>Volume</th>\n",
       "    </tr>\n",
       "  </thead>\n",
       "  <tbody>\n",
       "    <tr>\n",
       "      <th>count</th>\n",
       "      <td>110253.000000</td>\n",
       "      <td>110253.000000</td>\n",
       "      <td>110253.000000</td>\n",
       "      <td>110253.000000</td>\n",
       "      <td>110253.000000</td>\n",
       "      <td>1.102530e+05</td>\n",
       "    </tr>\n",
       "    <tr>\n",
       "      <th>mean</th>\n",
       "      <td>7658.515222</td>\n",
       "      <td>7704.372961</td>\n",
       "      <td>7608.000422</td>\n",
       "      <td>7657.545872</td>\n",
       "      <td>7657.351729</td>\n",
       "      <td>1.273975e+09</td>\n",
       "    </tr>\n",
       "    <tr>\n",
       "      <th>std</th>\n",
       "      <td>9011.478913</td>\n",
       "      <td>9066.638548</td>\n",
       "      <td>8954.506981</td>\n",
       "      <td>9011.510444</td>\n",
       "      <td>9011.608900</td>\n",
       "      <td>4.315783e+09</td>\n",
       "    </tr>\n",
       "    <tr>\n",
       "      <th>min</th>\n",
       "      <td>54.869999</td>\n",
       "      <td>54.869999</td>\n",
       "      <td>54.869999</td>\n",
       "      <td>54.869999</td>\n",
       "      <td>54.869999</td>\n",
       "      <td>0.000000e+00</td>\n",
       "    </tr>\n",
       "    <tr>\n",
       "      <th>25%</th>\n",
       "      <td>1855.030029</td>\n",
       "      <td>1864.510010</td>\n",
       "      <td>1843.979980</td>\n",
       "      <td>1855.060059</td>\n",
       "      <td>1854.179565</td>\n",
       "      <td>0.000000e+00</td>\n",
       "    </tr>\n",
       "    <tr>\n",
       "      <th>50%</th>\n",
       "      <td>5194.089844</td>\n",
       "      <td>5226.279785</td>\n",
       "      <td>5154.049805</td>\n",
       "      <td>5194.750000</td>\n",
       "      <td>5194.750000</td>\n",
       "      <td>4.329000e+05</td>\n",
       "    </tr>\n",
       "    <tr>\n",
       "      <th>75%</th>\n",
       "      <td>10134.299810</td>\n",
       "      <td>10207.820310</td>\n",
       "      <td>10060.349610</td>\n",
       "      <td>10134.830080</td>\n",
       "      <td>10134.830080</td>\n",
       "      <td>1.734314e+08</td>\n",
       "    </tr>\n",
       "    <tr>\n",
       "      <th>max</th>\n",
       "      <td>68775.062500</td>\n",
       "      <td>69403.750000</td>\n",
       "      <td>68516.992190</td>\n",
       "      <td>68775.062500</td>\n",
       "      <td>68775.062500</td>\n",
       "      <td>9.440374e+10</td>\n",
       "    </tr>\n",
       "  </tbody>\n",
       "</table>\n",
       "</div>"
      ],
      "text/plain": [
       "                Open           High            Low          Close  \\\n",
       "count  110253.000000  110253.000000  110253.000000  110253.000000   \n",
       "mean     7658.515222    7704.372961    7608.000422    7657.545872   \n",
       "std      9011.478913    9066.638548    8954.506981    9011.510444   \n",
       "min        54.869999      54.869999      54.869999      54.869999   \n",
       "25%      1855.030029    1864.510010    1843.979980    1855.060059   \n",
       "50%      5194.089844    5226.279785    5154.049805    5194.750000   \n",
       "75%     10134.299810   10207.820310   10060.349610   10134.830080   \n",
       "max     68775.062500   69403.750000   68516.992190   68775.062500   \n",
       "\n",
       "           Adj Close        Volume  \n",
       "count  110253.000000  1.102530e+05  \n",
       "mean     7657.351729  1.273975e+09  \n",
       "std      9011.608900  4.315783e+09  \n",
       "min        54.869999  0.000000e+00  \n",
       "25%      1854.179565  0.000000e+00  \n",
       "50%      5194.750000  4.329000e+05  \n",
       "75%     10134.830080  1.734314e+08  \n",
       "max     68775.062500  9.440374e+10  "
      ]
     },
     "execution_count": 33,
     "metadata": {},
     "output_type": "execute_result"
    }
   ],
   "source": [
    "df.describe()"
   ]
  },
  {
   "cell_type": "code",
   "execution_count": 34,
   "id": "35f84817-db0c-40ce-833c-0def57111878",
   "metadata": {},
   "outputs": [
    {
     "data": {
      "text/plain": [
       "(112457, 8)"
      ]
     },
     "execution_count": 34,
     "metadata": {},
     "output_type": "execute_result"
    }
   ],
   "source": [
    "df.shape"
   ]
  },
  {
   "cell_type": "code",
   "execution_count": 35,
   "id": "6ef139bf-6243-48f3-a566-4e1d45b075f9",
   "metadata": {},
   "outputs": [
    {
     "data": {
      "text/html": [
       "<div>\n",
       "<style scoped>\n",
       "    .dataframe tbody tr th:only-of-type {\n",
       "        vertical-align: middle;\n",
       "    }\n",
       "\n",
       "    .dataframe tbody tr th {\n",
       "        vertical-align: top;\n",
       "    }\n",
       "\n",
       "    .dataframe thead th {\n",
       "        text-align: right;\n",
       "    }\n",
       "</style>\n",
       "<table border=\"1\" class=\"dataframe\">\n",
       "  <thead>\n",
       "    <tr style=\"text-align: right;\">\n",
       "      <th></th>\n",
       "      <th>Index</th>\n",
       "      <th>Date</th>\n",
       "      <th>Open</th>\n",
       "      <th>High</th>\n",
       "      <th>Low</th>\n",
       "      <th>Close</th>\n",
       "      <th>Adj Close</th>\n",
       "      <th>Volume</th>\n",
       "    </tr>\n",
       "  </thead>\n",
       "  <tbody>\n",
       "    <tr>\n",
       "      <th>0</th>\n",
       "      <td>True</td>\n",
       "      <td>True</td>\n",
       "      <td>True</td>\n",
       "      <td>True</td>\n",
       "      <td>True</td>\n",
       "      <td>True</td>\n",
       "      <td>True</td>\n",
       "      <td>True</td>\n",
       "    </tr>\n",
       "    <tr>\n",
       "      <th>1</th>\n",
       "      <td>True</td>\n",
       "      <td>True</td>\n",
       "      <td>True</td>\n",
       "      <td>True</td>\n",
       "      <td>True</td>\n",
       "      <td>True</td>\n",
       "      <td>True</td>\n",
       "      <td>True</td>\n",
       "    </tr>\n",
       "    <tr>\n",
       "      <th>2</th>\n",
       "      <td>True</td>\n",
       "      <td>True</td>\n",
       "      <td>True</td>\n",
       "      <td>True</td>\n",
       "      <td>True</td>\n",
       "      <td>True</td>\n",
       "      <td>True</td>\n",
       "      <td>True</td>\n",
       "    </tr>\n",
       "    <tr>\n",
       "      <th>3</th>\n",
       "      <td>True</td>\n",
       "      <td>True</td>\n",
       "      <td>True</td>\n",
       "      <td>True</td>\n",
       "      <td>True</td>\n",
       "      <td>True</td>\n",
       "      <td>True</td>\n",
       "      <td>True</td>\n",
       "    </tr>\n",
       "    <tr>\n",
       "      <th>4</th>\n",
       "      <td>True</td>\n",
       "      <td>True</td>\n",
       "      <td>True</td>\n",
       "      <td>True</td>\n",
       "      <td>True</td>\n",
       "      <td>True</td>\n",
       "      <td>True</td>\n",
       "      <td>True</td>\n",
       "    </tr>\n",
       "    <tr>\n",
       "      <th>...</th>\n",
       "      <td>...</td>\n",
       "      <td>...</td>\n",
       "      <td>...</td>\n",
       "      <td>...</td>\n",
       "      <td>...</td>\n",
       "      <td>...</td>\n",
       "      <td>...</td>\n",
       "      <td>...</td>\n",
       "    </tr>\n",
       "    <tr>\n",
       "      <th>112452</th>\n",
       "      <td>True</td>\n",
       "      <td>True</td>\n",
       "      <td>True</td>\n",
       "      <td>True</td>\n",
       "      <td>True</td>\n",
       "      <td>True</td>\n",
       "      <td>True</td>\n",
       "      <td>True</td>\n",
       "    </tr>\n",
       "    <tr>\n",
       "      <th>112453</th>\n",
       "      <td>True</td>\n",
       "      <td>True</td>\n",
       "      <td>True</td>\n",
       "      <td>True</td>\n",
       "      <td>True</td>\n",
       "      <td>True</td>\n",
       "      <td>True</td>\n",
       "      <td>True</td>\n",
       "    </tr>\n",
       "    <tr>\n",
       "      <th>112454</th>\n",
       "      <td>True</td>\n",
       "      <td>True</td>\n",
       "      <td>True</td>\n",
       "      <td>True</td>\n",
       "      <td>True</td>\n",
       "      <td>True</td>\n",
       "      <td>True</td>\n",
       "      <td>True</td>\n",
       "    </tr>\n",
       "    <tr>\n",
       "      <th>112455</th>\n",
       "      <td>True</td>\n",
       "      <td>True</td>\n",
       "      <td>True</td>\n",
       "      <td>True</td>\n",
       "      <td>True</td>\n",
       "      <td>True</td>\n",
       "      <td>True</td>\n",
       "      <td>True</td>\n",
       "    </tr>\n",
       "    <tr>\n",
       "      <th>112456</th>\n",
       "      <td>True</td>\n",
       "      <td>True</td>\n",
       "      <td>True</td>\n",
       "      <td>True</td>\n",
       "      <td>True</td>\n",
       "      <td>True</td>\n",
       "      <td>True</td>\n",
       "      <td>True</td>\n",
       "    </tr>\n",
       "  </tbody>\n",
       "</table>\n",
       "<p>112457 rows × 8 columns</p>\n",
       "</div>"
      ],
      "text/plain": [
       "        Index  Date  Open  High   Low  Close  Adj Close  Volume\n",
       "0        True  True  True  True  True   True       True    True\n",
       "1        True  True  True  True  True   True       True    True\n",
       "2        True  True  True  True  True   True       True    True\n",
       "3        True  True  True  True  True   True       True    True\n",
       "4        True  True  True  True  True   True       True    True\n",
       "...       ...   ...   ...   ...   ...    ...        ...     ...\n",
       "112452   True  True  True  True  True   True       True    True\n",
       "112453   True  True  True  True  True   True       True    True\n",
       "112454   True  True  True  True  True   True       True    True\n",
       "112455   True  True  True  True  True   True       True    True\n",
       "112456   True  True  True  True  True   True       True    True\n",
       "\n",
       "[112457 rows x 8 columns]"
      ]
     },
     "execution_count": 35,
     "metadata": {},
     "output_type": "execute_result"
    }
   ],
   "source": [
    "df.notna()"
   ]
  },
  {
   "cell_type": "code",
   "execution_count": 36,
   "id": "33be0e23-3180-4e0c-a7d2-63cad197ab15",
   "metadata": {},
   "outputs": [
    {
     "data": {
      "text/plain": [
       "Index           0\n",
       "Date            0\n",
       "Open         2204\n",
       "High         2204\n",
       "Low          2204\n",
       "Close        2204\n",
       "Adj Close    2204\n",
       "Volume       2204\n",
       "dtype: int64"
      ]
     },
     "execution_count": 36,
     "metadata": {},
     "output_type": "execute_result"
    }
   ],
   "source": [
    "df.isnull().sum()"
   ]
  },
  {
   "cell_type": "code",
   "execution_count": 37,
   "id": "52f0620c-d7fd-4e7d-ae9d-6d80c310cd75",
   "metadata": {},
   "outputs": [
    {
     "data": {
      "text/plain": [
       "Text(0.5, 1.0, 'Stock Exchage')"
      ]
     },
     "execution_count": 37,
     "metadata": {},
     "output_type": "execute_result"
    },
    {
     "data": {
      "image/png": "[encoded data removed]",
      "text/plain": [
       "<Figure size 640x480 with 1 Axes>"
      ]
     },
     "metadata": {},
     "output_type": "display_data"
    }
   ],
   "source": [
    "df.plot()\n",
    "plt.title(\"Stock Exchage\")"
   ]
  },
  {
   "cell_type": "code",
   "execution_count": 38,
   "id": "ed1ffa05-4aa4-4464-9269-118bb41a6450",
   "metadata": {},
   "outputs": [
    {
     "data": {
      "text/plain": [
       "array([<Axes: >, <Axes: >, <Axes: >, <Axes: >, <Axes: >, <Axes: >],\n",
       "      dtype=object)"
      ]
     },
     "execution_count": 38,
     "metadata": {},
     "output_type": "execute_result"
    },
    {
     "data": {
      "image/png": "[encoded data removed]",
      "text/plain": [
       "<Figure size 1200x600 with 6 Axes>"
      ]
     },
     "metadata": {},
     "output_type": "display_data"
    }
   ],
   "source": [
    "df.plot.area(figsize=(12,6), subplots=True)"
   ]
  },
  {
   "cell_type": "code",
   "execution_count": 39,
   "id": "e212a218-4733-4b75-a17e-6b89c1c3132c",
   "metadata": {},
   "outputs": [],
   "source": [
    "median_open=df['Open'].median()\n",
    "mean_open=df['Open'].mean()\n",
    "mean_high=df['High'].mean()\n",
    "median_high=df['High'].median()\n",
    "mean_low=df['Low'].mean()\n",
    "median_low=df['Low'].median()\n",
    "mean_close=df['Close'].mean()\n",
    "median_close=df['Close'].median()\n",
    "mean_adjclose=df['Adj Close'].mean()\n",
    "median_adjclose=df['Adj Close'].median()\n",
    "mean_volume=df['Volume'].mean()\n",
    "median_volume=df['Volume'].median()"
   ]
  },
  {
   "cell_type": "code",
   "execution_count": 40,
   "id": "12c613e5-9e2a-42f3-9254-d9050d4b7968",
   "metadata": {},
   "outputs": [
    {
     "data": {
      "text/plain": [
       "432900.0"
      ]
     },
     "execution_count": 40,
     "metadata": {},
     "output_type": "execute_result"
    }
   ],
   "source": [
    "median_volume"
   ]
  },
  {
   "cell_type": "code",
   "execution_count": 41,
   "id": "fc2f3de7-a751-461d-892b-cc6891ab27f5",
   "metadata": {},
   "outputs": [
    {
     "data": {
      "text/plain": [
       "5194.089844"
      ]
     },
     "execution_count": 41,
     "metadata": {},
     "output_type": "execute_result"
    }
   ],
   "source": [
    "median_open"
   ]
  },
  {
   "cell_type": "code",
   "execution_count": 42,
   "id": "2bca7c88-172a-473c-9e4b-47b844acedbc",
   "metadata": {},
   "outputs": [
    {
     "data": {
      "text/plain": [
       "5226.279785"
      ]
     },
     "execution_count": 42,
     "metadata": {},
     "output_type": "execute_result"
    }
   ],
   "source": [
    "median_high"
   ]
  },
  {
   "cell_type": "code",
   "execution_count": 43,
   "id": "5680ac6b-dd4d-4db2-8351-d9e431841a48",
   "metadata": {},
   "outputs": [
    {
     "data": {
      "text/plain": [
       "5154.049805"
      ]
     },
     "execution_count": 43,
     "metadata": {},
     "output_type": "execute_result"
    }
   ],
   "source": [
    "median_low"
   ]
  },
  {
   "cell_type": "code",
   "execution_count": 44,
   "id": "bd66bfbd-2f3d-46cd-91e0-8666d10f167a",
   "metadata": {},
   "outputs": [
    {
     "data": {
      "text/plain": [
       "5194.75"
      ]
     },
     "execution_count": 44,
     "metadata": {},
     "output_type": "execute_result"
    }
   ],
   "source": [
    "median_close"
   ]
  },
  {
   "cell_type": "code",
   "execution_count": 45,
   "id": "f3bea536-d4c6-43c9-9755-1bf7085dc089",
   "metadata": {},
   "outputs": [
    {
     "data": {
      "text/plain": [
       "5194.75"
      ]
     },
     "execution_count": 45,
     "metadata": {},
     "output_type": "execute_result"
    }
   ],
   "source": [
    "median_adjclose"
   ]
  },
  {
   "cell_type": "code",
   "execution_count": 46,
   "id": "95394600-8588-4ec6-a0d7-0b96b041aef5",
   "metadata": {},
   "outputs": [],
   "source": [
    "df['High']=df.fillna((median_high), inplace=True)"
   ]
  },
  {
   "cell_type": "code",
   "execution_count": 47,
   "id": "9737c815-4b3e-4c60-b39b-d1aaaddc73d1",
   "metadata": {},
   "outputs": [],
   "source": [
    "df['Low']=df.fillna((median_low), inplace=True)"
   ]
  },
  {
   "cell_type": "code",
   "execution_count": 48,
   "id": "46fce3db-e2f7-484a-a3da-1ad7cdb11371",
   "metadata": {},
   "outputs": [],
   "source": [
    "df['Open']=df.fillna((median_open), inplace=True)"
   ]
  },
  {
   "cell_type": "code",
   "execution_count": 49,
   "id": "c8973bae-7ea3-46d2-8bfc-d9c1bf67da45",
   "metadata": {},
   "outputs": [],
   "source": [
    "df['Adj Close'] = df.fillna((median_adjclose), inplace=True)"
   ]
  },
  {
   "cell_type": "code",
   "execution_count": 50,
   "id": "fa0214ad-6bd4-4f9d-9f56-b947b5eebc2f",
   "metadata": {},
   "outputs": [],
   "source": [
    "df['Volume'] = df.fillna((median_volume), inplace=True)"
   ]
  },
  {
   "cell_type": "code",
   "execution_count": 51,
   "id": "51a498da-1e4e-4429-abba-55f1d96f98f2",
   "metadata": {},
   "outputs": [
    {
     "data": {
      "text/plain": [
       "Index             0\n",
       "Date              0\n",
       "Open              0\n",
       "High              0\n",
       "Low               0\n",
       "Close             0\n",
       "Adj Close         0\n",
       "Volume       112457\n",
       "dtype: int64"
      ]
     },
     "execution_count": 51,
     "metadata": {},
     "output_type": "execute_result"
    }
   ],
   "source": [
    "df.isnull().sum()"
   ]
  },
  {
   "cell_type": "code",
   "execution_count": 52,
   "id": "dc976f7a-c3e0-4e7f-8b1d-95cd47248a6b",
   "metadata": {},
   "outputs": [
    {
     "data": {
      "text/plain": [
       "Index        112457\n",
       "Date         112457\n",
       "Open         112457\n",
       "High         112457\n",
       "Low          112457\n",
       "Close        112457\n",
       "Adj Close    112457\n",
       "Volume            0\n",
       "dtype: int64"
      ]
     },
     "execution_count": 52,
     "metadata": {},
     "output_type": "execute_result"
    }
   ],
   "source": [
    "df.count()"
   ]
  },
  {
   "cell_type": "code",
   "execution_count": null,
   "id": "d2bddaf1-f3a1-4b32-8be8-41ac14e31748",
   "metadata": {},
   "outputs": [],
   "source": []
  }
 ],
 "metadata": {
  "kernelspec": {
   "display_name": "Python 3 (ipykernel)",
   "language": "python",
   "name": "python3"
  },
  "language_info": {
   "codemirror_mode": {
    "name": "ipython",
    "version": 3
   },
   "file_extension": ".py",
   "mimetype": "text/x-python",
   "name": "python",
   "nbconvert_exporter": "python",
   "pygments_lexer": "ipython3",
   "version": "3.8.0"
  },
  "widgets": {
   "application/vnd.jupyter.widget-state+json": {
    "state": {},
    "version_major": 2,
    "version_minor": 0
   }
  }
 },
 "nbformat": 4,
 "nbformat_minor": 5
}
