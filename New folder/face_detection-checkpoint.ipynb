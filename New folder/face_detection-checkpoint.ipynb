{
 "cells": [
  {
   "cell_type": "code",
   "execution_count": 1,
   "id": "546f524e-f585-488b-9788-cf7a22218572",
   "metadata": {},
   "outputs": [
    {
     "ename": "ModuleNotFoundError",
     "evalue": "No module named 'cv2'",
     "output_type": "error",
     "traceback": [
      "\u001b[1;31m---------------------------------------------------------------------------\u001b[0m",
      "\u001b[1;31mModuleNotFoundError\u001b[0m                       Traceback (most recent call last)",
      "Cell \u001b[1;32mIn[1], line 1\u001b[0m\n\u001b[1;32m----> 1\u001b[0m \u001b[38;5;28;01mimport\u001b[39;00m \u001b[38;5;21;01mcv2\u001b[39;00m\n\u001b[0;32m      2\u001b[0m \u001b[38;5;28;01mfrom\u001b[39;00m \u001b[38;5;21;01mcv2\u001b[39;00m \u001b[38;5;28;01mimport\u001b[39;00m face\n\u001b[0;32m      3\u001b[0m \u001b[38;5;28;01mimport\u001b[39;00m \u001b[38;5;21;01mnumpy\u001b[39;00m \u001b[38;5;28;01mas\u001b[39;00m \u001b[38;5;21;01mnp\u001b[39;00m\n",
      "\u001b[1;31mModuleNotFoundError\u001b[0m: No module named 'cv2'"
     ]
    }
   ],
   "source": [
    "import cv2\n",
    "from cv2 import face\n",
    "import numpy as np"
   ]
  },
  {
   "cell_type": "code",
   "execution_count": 10,
   "id": "6cf28a8a-073c-4939-8d48-1639a18130bd",
   "metadata": {},
   "outputs": [],
   "source": [
    "\n",
    "# Load the cascade\n",
    "face_cascade = cv2.CascadeClassifier('face.xml')\n",
    "# To capture video from webcam. \n",
    "cap = cv2.VideoCapture(0)\n",
    "# To use a video file as input \n",
    "# cap = cv2.VideoCapture('filename.mp4')\n",
    "while True:\n",
    "    # Read the frame\n",
    "    _, img = cap.read()\n",
    "\n",
    "    # Convert to grayscale\n",
    "    gray = cv2.cvtColor(img, cv2.COLOR_BGR2GRAY)\n",
    "\n",
    "    # Detect the faces\n",
    "    faces = face_cascade.detectMultiScale(gray, 1.1, 4)\n",
    "    # Draw the rectangle around each face\n",
    "    for (x, y, w, h) in faces:\n",
    "        cv2.rectangle(img, (x, y), (x+w, y+h), (255, 0, 0), 2)\n",
    "\n",
    "    # Display\n",
    "    cv2.imshow('img', img)\n",
    "\n",
    "    # Stop if escape key is pressed\n",
    "    k = cv2.waitKey(30) & 0xff\n",
    "    if k==27:\n",
    "        break\n",
    "        \n",
    "# Release the VideoCapture object\n",
    "cap.release()\n",
    "\n",
    "\n"
   ]
  },
  {
   "cell_type": "code",
   "execution_count": null,
   "id": "7308a710-7bcb-47b5-bebf-c18fa9377d9a",
   "metadata": {},
   "outputs": [],
   "source": [
    "#import cv from open cv\n",
    "import cv2\n",
    "\n",
    "from random import randrange as r\n",
    "#dataset load\n",
    "traineddata=cv2.CascadeClassifier('face.xml')\n",
    "\n",
    "#choise img\n",
    "img=cv2.imread('IMRAN.jpg')\n",
    "\n",
    "#conversion to black and white\n",
    "grayimg=cv2.cvtColor(img,cv2.COLOR_BGR2GRAY)\n",
    "\n",
    "#detect faces\n",
    "faceCoordinates=traineddata.detectMultiScale(grayimg)\n",
    "\n",
    "for x,y,w,h in faceCoordinates:\n",
    "    cv2.rectangle(img,(x,y),(x+w,y+h),(r(0,256),r(0,256),r(0,2256),3))\n",
    "\n",
    "#display image\n",
    "cv2.imshow('Dectect Face',img)\n",
    "\n",
    "#pause execution of the program until any key is pressed\n",
    "cv2.waitKey()\n",
    "\n",
    "\n",
    "\n",
    "print('End of program')"
   ]
  },
  {
   "cell_type": "code",
   "execution_count": null,
   "id": "8edcb348-930f-4f2a-905c-33f7d59b2098",
   "metadata": {},
   "outputs": [],
   "source": []
  }
 ],
 "metadata": {
  "kernelspec": {
   "display_name": "Python 3 (ipykernel)",
   "language": "python",
   "name": "python3"
  },
  "language_info": {
   "codemirror_mode": {
    "name": "ipython",
    "version": 3
   },
   "file_extension": ".py",
   "mimetype": "text/x-python",
   "name": "python",
   "nbconvert_exporter": "python",
   "pygments_lexer": "ipython3",
   "version": "3.8.0"
  },
  "widgets": {
   "application/vnd.jupyter.widget-state+json": {
    "state": {},
    "version_major": 2,
    "version_minor": 0
   }
  }
 },
 "nbformat": 4,
 "nbformat_minor": 5
}
